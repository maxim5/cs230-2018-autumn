{
 "cells": [
  {
   "cell_type": "markdown",
   "metadata": {},
   "source": [
    "# Adversarial Examples\n",
    "\n",
    "In this example, we will do the following steps:\n",
    "- Generate a 1D dataset with 2 classes sampled from Gaussian Distribution with different means\n",
    "- Train a Logistic Regression Classifier on this dataset\n",
    "- Generate a naive Adversarial Example (i.e. Classifier thinks it's new class but example no longer looks anything remotely like the original class)\n",
    "- Generate a better Adversarial Example (i.e. Classifier thinks it's new class but example still looks like original class!)"
   ]
  },
  {
   "cell_type": "code",
   "execution_count": 1,
   "metadata": {},
   "outputs": [],
   "source": [
    "import numpy as np\n",
    "import matplotlib.pyplot as plt\n",
    "np.random.seed(1)"
   ]
  },
  {
   "cell_type": "markdown",
   "metadata": {},
   "source": [
    "### 1. Generate Dataset"
   ]
  },
  {
   "cell_type": "code",
   "execution_count": 2,
   "metadata": {},
   "outputs": [],
   "source": [
    "def generate_dataset(mu, sigma, examples):\n",
    "    return np.random.normal(mu, sigma, examples)"
   ]
  },
  {
   "cell_type": "code",
   "execution_count": 3,
   "metadata": {},
   "outputs": [],
   "source": [
    "mu1 = -1\n",
    "mu2 = 2\n",
    "sigma = 1\n",
    "m = 100\n",
    "\n",
    "def generate_full_dataset():\n",
    "    x1 = generate_dataset(mu1, sigma, m)\n",
    "    x2 = generate_dataset(mu2, sigma, m)\n",
    "    _x = np.expand_dims(np.hstack((x1,x2)), axis=1)\n",
    "    x = np.hstack((np.ones((2*m,1)), _x))\n",
    "    y = np.vstack((np.zeros((m,1)), np.ones((m,1))))\n",
    "    return x1, x2, x, y\n",
    "\n",
    "x1, x2, x, y = generate_full_dataset()\n",
    "_, _, test_x, test_y = generate_full_dataset()"
   ]
  },
  {
   "cell_type": "code",
   "execution_count": 4,
   "metadata": {},
   "outputs": [],
   "source": [
    "def plot_distribution(mu, sigma, s, color):\n",
    "    count, bins, ignored = plt.hist(s, 20, normed=True, color=color)\n",
    "    plt.plot(bins, 1/(sigma * np.sqrt(2 * np.pi)) *\n",
    "        np.exp( - (bins - mu)**2 / (2 * sigma**2) ),\n",
    "        linewidth=2, color=color)"
   ]
  },
  {
   "cell_type": "code",
   "execution_count": 5,
   "metadata": {},
   "outputs": [
    {
     "data": {
      "image/png": "[encoded data removed]",
      "text/plain": [
       "<matplotlib.figure.Figure at 0x11450b5f8>"
      ]
     },
     "metadata": {},
     "output_type": "display_data"
    }
   ],
   "source": [
    "plot_distribution(mu1, sigma, x1, 'r')\n",
    "plot_distribution(mu2, sigma, x2, 'g')\n",
    "plt.show()"
   ]
  },
  {
   "cell_type": "markdown",
   "metadata": {},
   "source": [
    "### 2. Train Classifier using Logistic Regression"
   ]
  },
  {
   "cell_type": "code",
   "execution_count": 6,
   "metadata": {},
   "outputs": [],
   "source": [
    "def initialize_variables():\n",
    "    w = np.random.randn(2,1)\n",
    "    return w\n",
    "\n",
    "def forward_prop(w, x):\n",
    "    def sigmoid(z):\n",
    "        return 1.0/(1 + np.exp(-z))\n",
    "    return sigmoid(np.matmul(x,w))\n",
    "    \n",
    "def backward_prop(w, x, y, y_hat, learning_rate=0.01):\n",
    "    dw = np.matmul(x.T, y_hat - y)\n",
    "    w_new = w - learning_rate * dw\n",
    "    return w_new\n",
    "\n",
    "def get_class(y_hat):\n",
    "    return y_hat >= 0.5\n",
    "\n",
    "def calc_binary_cross_entropy_loss(y_hat, y):\n",
    "    return -np.sum(y * np.log(y_hat) + (1-y) * np.log(1-y_hat))\n",
    "\n",
    "def calc_accuracy(y_hat, y):\n",
    "    return np.sum(y*(y_hat>=0.5) + (1-y)*(y_hat<0.5))/y.shape[0]"
   ]
  },
  {
   "cell_type": "code",
   "execution_count": 7,
   "metadata": {},
   "outputs": [],
   "source": [
    "def print_performance(itr, y_hat, y, dataset_type='Train'):\n",
    "    loss = calc_binary_cross_entropy_loss(y_hat, y)\n",
    "    accuracy = calc_accuracy(y_hat, y)\n",
    "    print('Iteration {} | {} Loss: {} | {} Accuracy: {}'.format(\n",
    "        itr, dataset_type, loss, dataset_type, accuracy))\n",
    "    \n",
    "def training_loop(num_iters, x, y, print_every=1):\n",
    "    w = initialize_variables()\n",
    "    for itr in range(num_iters):\n",
    "        y_hat = forward_prop(w, x)\n",
    "        if itr%print_every == 0:\n",
    "            print_performance(itr, y_hat, y)\n",
    "        w = backward_prop(w, x, y, y_hat)\n",
    "    test_y_hat = forward_prop(w, test_x)\n",
    "#     print_performance('End', test_y_hat, test_y, 'Test')\n",
    "    return w"
   ]
  },
  {
   "cell_type": "code",
   "execution_count": 8,
   "metadata": {},
   "outputs": [
    {
     "name": "stdout",
     "output_type": "stream",
     "text": [
      "Iteration 0 | Train Loss: 164.46693309520944 | Train Accuracy: 0.5\n",
      "Iteration 1 | Train Loss: 32.2025858558397 | Train Accuracy: 0.935\n",
      "Iteration 2 | Train Loss: 31.231327311117777 | Train Accuracy: 0.935\n",
      "Iteration 3 | Train Loss: 30.46874124981169 | Train Accuracy: 0.935\n",
      "Iteration 4 | Train Loss: 29.85248822421606 | Train Accuracy: 0.935\n",
      "Iteration 5 | Train Loss: 29.343740443231393 | Train Accuracy: 0.935\n",
      "Iteration 6 | Train Loss: 28.916736879761398 | Train Accuracy: 0.935\n",
      "Iteration 7 | Train Loss: 28.553557771493992 | Train Accuracy: 0.935\n",
      "Iteration 8 | Train Loss: 28.24127204034748 | Train Accuracy: 0.935\n",
      "Iteration 9 | Train Loss: 27.970271568113578 | Train Accuracy: 0.94\n"
     ]
    }
   ],
   "source": [
    "w = training_loop(10, x, y)"
   ]
  },
  {
   "cell_type": "code",
   "execution_count": 9,
   "metadata": {},
   "outputs": [
    {
     "data": {
      "image/png": "[encoded data removed]",
      "text/plain": [
       "<matplotlib.figure.Figure at 0x117b477f0>"
      ]
     },
     "metadata": {},
     "output_type": "display_data"
    }
   ],
   "source": [
    "def find_boundary(w):\n",
    "    return -w[0]/w[1]\n",
    "\n",
    "plot_distribution(mu1, sigma, x1, 'r')\n",
    "plot_distribution(mu2, sigma, x2, 'g')\n",
    "plt.axvline(x=find_boundary(w))\n",
    "plt.show()"
   ]
  },
  {
   "cell_type": "markdown",
   "metadata": {},
   "source": [
    "### 3. Naive Adversarial Example\n",
    "\n",
    "To generate an adversarial example w.r.t. class 0, we need to take derivatives of the loss w.r.t. an example of class 1. If we simply change the label to 0 and change the input, the classifier will classify it as class 0 eventually. However, the example no longer \"looks like\" it's from class 0.\n",
    "\n",
    "In this example, we assume that to humans, any input that is negative looks like it's from class 0, while any input that is positive looks like it's from class 1.\n",
    "\n",
    "The loss below is taken from the lecture slides. In our case, we are doing classification so we use BCE loss instead of L2 loss."
   ]
  },
  {
   "cell_type": "markdown",
   "metadata": {},
   "source": [
    "![title](img/naive_adversarial.png)"
   ]
  },
  {
   "cell_type": "code",
   "execution_count": 10,
   "metadata": {},
   "outputs": [
    {
     "name": "stdout",
     "output_type": "stream",
     "text": [
      "Example: [[1 2]] | Class: [ True] | Loss: 0.025447496903977174\n"
     ]
    }
   ],
   "source": [
    "start_example = np.array([[1,mu2]])\n",
    "y_hat = forward_prop(w, start_example)\n",
    "y = np.array([[1]])\n",
    "correct_loss = calc_binary_cross_entropy_loss(y_hat, y)\n",
    "print(\"Example: {} | Class: {} | Loss: {}\".format(start_example, get_class(y_hat)[0], correct_loss))"
   ]
  },
  {
   "cell_type": "code",
   "execution_count": 11,
   "metadata": {},
   "outputs": [
    {
     "name": "stdout",
     "output_type": "stream",
     "text": [
      "Example: [[1 2]] | Adversarial Loss: 3.6838346606027472\n"
     ]
    }
   ],
   "source": [
    "y = np.array([[0]])\n",
    "adversarial_loss = calc_binary_cross_entropy_loss(y_hat, y)\n",
    "print(\"Example: {} | Adversarial Loss: {}\".format(start_example, adversarial_loss))"
   ]
  },
  {
   "cell_type": "code",
   "execution_count": 12,
   "metadata": {},
   "outputs": [],
   "source": [
    "def looks_like_original(x_new, x_orig):\n",
    "    # Returns true if x_new and x_orig have same sign\n",
    "    return (x_new > 0) * (x_orig > 0)"
   ]
  },
  {
   "cell_type": "code",
   "execution_count": 13,
   "metadata": {},
   "outputs": [],
   "source": [
    "def backward_prop_to_input(w, x, y, y_hat, learning_rate=0.1):\n",
    "    # Only works for single input x for now\n",
    "    dx = np.matmul(y_hat - y, w.T)\n",
    "    x_new = x - learning_rate * dx\n",
    "    x_new[0][0] = 1 # zeroth feature should not get updated!\n",
    "    return x_new\n",
    "\n",
    "def print_adversarial_performance(itr, y_hat, y, x_new, x_orig, dataset_type='Train'):\n",
    "    loss = calc_binary_cross_entropy_loss(y_hat, y)\n",
    "    accuracy = calc_accuracy(y_hat, y)\n",
    "    print('Iteration {} | {} Loss: {} | {} Accuracy: {} | New Image Looks Like Original: {}'.format(\n",
    "        itr, dataset_type, loss, dataset_type, accuracy, looks_like_original(x_new, x_orig)))"
   ]
  },
  {
   "cell_type": "code",
   "execution_count": 14,
   "metadata": {},
   "outputs": [],
   "source": [
    "def naive_adversarial_training_loop(x, w, num_iters, print_every=1):\n",
    "    print(\"Starting Example: {}\".format(x))\n",
    "    for itr in range(num_iters):\n",
    "        y_hat = forward_prop(w, x)\n",
    "        if itr%print_every == 0:\n",
    "            print_adversarial_performance(itr, y_hat, y, x[0][1], start_example[0][1])\n",
    "        x = backward_prop_to_input(w, x, y, y_hat)\n",
    "    return x"
   ]
  },
  {
   "cell_type": "code",
   "execution_count": 15,
   "metadata": {},
   "outputs": [
    {
     "name": "stdout",
     "output_type": "stream",
     "text": [
      "Starting Example: [[1 2]]\n",
      "Iteration 0 | Train Loss: 3.6838346606027472 | Train Accuracy: 0.0 | New Image Looks Like Original: True\n",
      "Iteration 5 | Train Loss: 1.3534110651616833 | Train Accuracy: 0.0 | New Image Looks Like Original: True\n",
      "Iteration 10 | Train Loss: 0.44586928330933895 | Train Accuracy: 1.0 | New Image Looks Like Original: True\n",
      "Iteration 15 | Train Loss: 0.22333954914043774 | Train Accuracy: 1.0 | New Image Looks Like Original: False\n",
      "Iteration 20 | Train Loss: 0.143456511087206 | Train Accuracy: 1.0 | New Image Looks Like Original: False\n",
      "Iteration 25 | Train Loss: 0.10443136635318857 | Train Accuracy: 1.0 | New Image Looks Like Original: False\n",
      "Iteration 30 | Train Loss: 0.08169477341203468 | Train Accuracy: 1.0 | New Image Looks Like Original: False\n",
      "Iteration 35 | Train Loss: 0.06692174954613377 | Train Accuracy: 1.0 | New Image Looks Like Original: False\n",
      "Iteration 40 | Train Loss: 0.05659298383937963 | Train Accuracy: 1.0 | New Image Looks Like Original: False\n",
      "Iteration 45 | Train Loss: 0.048982969375009996 | Train Accuracy: 1.0 | New Image Looks Like Original: False\n"
     ]
    }
   ],
   "source": [
    "new_example = naive_adversarial_training_loop(start_example, w, 50, print_every=5)"
   ]
  },
  {
   "cell_type": "code",
   "execution_count": 16,
   "metadata": {},
   "outputs": [
    {
     "name": "stdout",
     "output_type": "stream",
     "text": [
      "Start Example\n",
      "Example: 2\n",
      "Looks like Original: True\n",
      "Black Box Class: 1\n",
      "\n",
      "Adversarial Example\n",
      "Example: -0.8385584344513204\n",
      "Looks like Original: False\n",
      "Black Box Class: 0\n"
     ]
    }
   ],
   "source": [
    "# Adversarial Example using Sign Gradient Method works!\n",
    "print (\"Start Example\")\n",
    "print(\"Example: {}\".format(start_example[0][1]))\n",
    "print(\"Looks like Original: {}\".format(looks_like_original(start_example[0][1], start_example[0][1])))\n",
    "print(\"Black Box Class: {}\".format(1 if get_class(forward_prop(w, start_example))[0][0] else 0))\n",
    "print()\n",
    "print(\"Adversarial Example\")\n",
    "print(\"Example: {}\".format(new_example[0][1]))\n",
    "print(\"Looks like Original: {}\".format(looks_like_original(new_example[0][1], start_example[0][1])))\n",
    "print(\"Black Box Class: {}\".format(1 if get_class(forward_prop(w, new_example))[0][0] else 0))"
   ]
  },
  {
   "cell_type": "markdown",
   "metadata": {},
   "source": [
    "### 4. Better Adversarial Example\n",
    "\n",
    "As seen in the above example, while the classifier classifies the new example as class 0, the new example no longer \"looks like\" the original example.\n",
    "\n",
    "We change our loss to include the squared difference between the new example and the original example. We show that in this way, we are able to generate an adversarial example which the classifier classifies as class 0 even though the new example still \"looks like\" the original example.\n",
    "\n",
    "Like before, we change the first term to BCE loss. We keep the second term the same (L2 loss over features)."
   ]
  },
  {
   "cell_type": "markdown",
   "metadata": {},
   "source": [
    "![title](img/better_adversarial.png)"
   ]
  },
  {
   "cell_type": "code",
   "execution_count": 17,
   "metadata": {},
   "outputs": [],
   "source": [
    "def better_backward_prop_to_input(w, x, x_orig, y, y_hat, learning_rate=0.1, lambd=1.0):\n",
    "    # Only works for single input x for now\n",
    "    dx = np.matmul(y_hat - y, w.T) + 2 * lambd * (x[0] - x_orig[0])\n",
    "    x_new = x - learning_rate * dx\n",
    "    x_new[0][0] = 1 # zeroth feature should not get updated!\n",
    "    return x_new\n",
    "\n",
    "# def calc_better_adversarial_loss(y_hat, y, x_new, x_orig, lambd=1.0):\n",
    "#     return calc_binary_cross_entropy_loss(y_hat, y) + \\\n",
    "#             lambd * (np.square(x_new - x_orig))"
   ]
  },
  {
   "cell_type": "code",
   "execution_count": 18,
   "metadata": {},
   "outputs": [],
   "source": [
    "def better_adversarial_training_loop(x, w, num_iters, print_every=1, lambd=1.0):\n",
    "    print(\"Starting Example: {}\".format(x))\n",
    "    for itr in range(num_iters):\n",
    "        y_hat = forward_prop(w, x)\n",
    "        if itr%print_every == 0:\n",
    "            print_adversarial_performance(itr, y_hat, y, x[0][1], start_example[0][1])\n",
    "        x = better_backward_prop_to_input(w, x, start_example, y, y_hat, lambd=lambd)\n",
    "    return x"
   ]
  },
  {
   "cell_type": "code",
   "execution_count": 19,
   "metadata": {},
   "outputs": [
    {
     "name": "stdout",
     "output_type": "stream",
     "text": [
      "Starting Example: [[1 2]]\n",
      "Iteration 0 | Train Loss: 3.6838346606027472 | Train Accuracy: 0.0 | New Image Looks Like Original: True\n",
      "Iteration 5 | Train Loss: 1.5369495377266704 | Train Accuracy: 0.0 | New Image Looks Like Original: True\n",
      "Iteration 10 | Train Loss: 0.7514180035844698 | Train Accuracy: 0.0 | New Image Looks Like Original: True\n",
      "Iteration 15 | Train Loss: 0.5499689289278108 | Train Accuracy: 1.0 | New Image Looks Like Original: True\n",
      "Iteration 20 | Train Loss: 0.49015912846255727 | Train Accuracy: 1.0 | New Image Looks Like Original: True\n",
      "Iteration 25 | Train Loss: 0.4700593376221668 | Train Accuracy: 1.0 | New Image Looks Like Original: True\n",
      "Iteration 30 | Train Loss: 0.4629486863450584 | Train Accuracy: 1.0 | New Image Looks Like Original: True\n",
      "Iteration 35 | Train Loss: 0.46038417787249586 | Train Accuracy: 1.0 | New Image Looks Like Original: True\n",
      "Iteration 40 | Train Loss: 0.45945268127415007 | Train Accuracy: 1.0 | New Image Looks Like Original: True\n",
      "Iteration 45 | Train Loss: 0.4591134577489157 | Train Accuracy: 1.0 | New Image Looks Like Original: True\n"
     ]
    }
   ],
   "source": [
    "new_example = better_adversarial_training_loop(start_example, w, 50, print_every=5, lambd=0.25)"
   ]
  },
  {
   "cell_type": "code",
   "execution_count": 20,
   "metadata": {},
   "outputs": [
    {
     "name": "stdout",
     "output_type": "stream",
     "text": [
      "Start Example\n",
      "Example: 2\n",
      "Looks like Original: True\n",
      "Black Box Class: 1\n",
      "\n",
      "Adversarial Example\n",
      "Example: 0.24201883671021976\n",
      "Looks like Original: True\n",
      "Black Box Class: 0\n"
     ]
    }
   ],
   "source": [
    "# Adversarial Example using Sign Gradient Method works!\n",
    "print (\"Start Example\")\n",
    "print(\"Example: {}\".format(start_example[0][1]))\n",
    "print(\"Looks like Original: {}\".format(looks_like_original(start_example[0][1], start_example[0][1])))\n",
    "print(\"Black Box Class: {}\".format(1 if get_class(forward_prop(w, start_example))[0][0] else 0))\n",
    "print()\n",
    "print(\"Adversarial Example\")\n",
    "print(\"Example: {}\".format(new_example[0][1]))\n",
    "print(\"Looks like Original: {}\".format(looks_like_original(new_example[0][1], start_example[0][1])))\n",
    "print(\"Black Box Class: {}\".format(1 if get_class(forward_prop(w, new_example))[0][0] else 0))"
   ]
  },
  {
   "cell_type": "markdown",
   "metadata": {},
   "source": [
    "![title](img/space_of_adversarial_examples.png)"
   ]
  },
  {
   "cell_type": "markdown",
   "metadata": {},
   "source": [
    "# Black Box vs White Box Attacks\n",
    "\n",
    "We have seen an example of a \"White Box Attack\" since we have access to the original classifier's architecture and weights. Now, let's see how one may perform a \"Black Box Attack\"."
   ]
  },
  {
   "cell_type": "code",
   "execution_count": 22,
   "metadata": {},
   "outputs": [
    {
     "name": "stdout",
     "output_type": "stream",
     "text": [
      "Iteration 0 | Train Loss: 252.920981783054 | Train Accuracy: 0.6159149131954049\n",
      "Iteration 1 | Train Loss: 141.51855865832619 | Train Accuracy: 0.8534250366651536\n",
      "Iteration 2 | Train Loss: 136.28026988788724 | Train Accuracy: 0.8565799925441653\n",
      "Iteration 3 | Train Loss: 133.97567139031787 | Train Accuracy: 0.8572792278743205\n",
      "Iteration 4 | Train Loss: 132.75367277756658 | Train Accuracy: 0.8575970679366708\n",
      "Iteration 5 | Train Loss: 132.04248399898873 | Train Accuracy: 0.8577113450109521\n",
      "Iteration 6 | Train Loss: 131.6047552658429 | Train Accuracy: 0.8577958139397198\n",
      "Iteration 7 | Train Loss: 131.32503217904733 | Train Accuracy: 0.8577958139397198\n",
      "Iteration 8 | Train Loss: 131.14141256561805 | Train Accuracy: 0.8578504506592182\n",
      "Iteration 9 | Train Loss: 131.01843876606216 | Train Accuracy: 0.8578504506592182\n"
     ]
    }
   ],
   "source": [
    "# Generate dataset and forward prop in black box classifier to get corresponding labels\n",
    "_gen_x = np.arange(-2,2,0.01)\n",
    "gen_x = np.vstack((np.ones(_gen_x.shape), _gen_x)).T\n",
    "gen_y = forward_prop(w, gen_x)\n",
    "\n",
    "# Train our own network on generated dataset\n",
    "gen_w = training_loop(10, gen_x, gen_y)"
   ]
  },
  {
   "cell_type": "code",
   "execution_count": 23,
   "metadata": {},
   "outputs": [
    {
     "name": "stdout",
     "output_type": "stream",
     "text": [
      "Starting Example: [[1 2]]\n",
      "Iteration 0 | Train Loss: 3.5130019907812327 | Train Accuracy: 0.0 | New Image Looks Like Original: True\n",
      "Iteration 5 | Train Loss: 1.6014819059728957 | Train Accuracy: 0.0 | New Image Looks Like Original: True\n",
      "Iteration 10 | Train Loss: 0.8313043306093468 | Train Accuracy: 0.0 | New Image Looks Like Original: True\n",
      "Iteration 15 | Train Loss: 0.60502368539474 | Train Accuracy: 1.0 | New Image Looks Like Original: True\n",
      "Iteration 20 | Train Loss: 0.532067738614782 | Train Accuracy: 1.0 | New Image Looks Like Original: True\n",
      "Iteration 25 | Train Loss: 0.5058422876242678 | Train Accuracy: 1.0 | New Image Looks Like Original: True\n",
      "Iteration 30 | Train Loss: 0.49591677103168713 | Train Accuracy: 1.0 | New Image Looks Like Original: True\n",
      "Iteration 35 | Train Loss: 0.49207969796297546 | Train Accuracy: 1.0 | New Image Looks Like Original: True\n",
      "Iteration 40 | Train Loss: 0.49058373867242994 | Train Accuracy: 1.0 | New Image Looks Like Original: True\n",
      "Iteration 45 | Train Loss: 0.4899985608377433 | Train Accuracy: 1.0 | New Image Looks Like Original: True\n"
     ]
    }
   ],
   "source": [
    "# Create adversarial example on own network\n",
    "new_example = better_adversarial_training_loop(start_example, gen_w, 50, print_every=5, lambd=0.25)"
   ]
  },
  {
   "cell_type": "code",
   "execution_count": 24,
   "metadata": {},
   "outputs": [
    {
     "name": "stdout",
     "output_type": "stream",
     "text": [
      "Start Example\n",
      "Example: 2\n",
      "Looks like Original: True\n",
      "Black Box Class: 1\n",
      "\n",
      "Adversarial Example\n",
      "Example: 0.2530884487558152\n",
      "Looks like Original: True\n",
      "Black Box Class: 0\n"
     ]
    }
   ],
   "source": [
    "# Adversarial Example transfers to black box classifier!\n",
    "print (\"Start Example\")\n",
    "print(\"Example: {}\".format(start_example[0][1]))\n",
    "print(\"Looks like Original: {}\".format(looks_like_original(start_example[0][1], start_example[0][1])))\n",
    "print(\"Black Box Class: {}\".format(1 if get_class(forward_prop(w, start_example))[0][0] else 0))\n",
    "print()\n",
    "print(\"Adversarial Example\")\n",
    "print(\"Example: {}\".format(new_example[0][1]))\n",
    "print(\"Looks like Original: {}\".format(looks_like_original(new_example[0][1], start_example[0][1])))\n",
    "print(\"Black Box Class: {}\".format(1 if get_class(forward_prop(w, new_example))[0][0] else 0))"
   ]
  },
  {
   "cell_type": "markdown",
   "metadata": {},
   "source": [
    "# Targeted vs Non-Targeted Attacks\n",
    "\n",
    "In this example, there are only 2 classes. If there are k classes, a targeted attack is trying to fool the network into thinking an example comes from a specific class j even though it \"looks like\" it's from class i. A non-targeted attack is trying to fool the network into thinking an example comes from any class j!=i even though it \"looks like\" it's from class i."
   ]
  },
  {
   "cell_type": "markdown",
   "metadata": {},
   "source": [
    "# Fast Gradient Sign Method\n",
    "\n",
    "In the following example, we showcase the fast gradient sign method. This method comes from the insight that if we modify the input in the direction of the negative sign of the gradient of loss w.r.t. input, we can generate an adversarial example. This method works better when:\n",
    "- Weights are large in magnitude\n",
    "- More dimensions\n",
    "\n",
    "In this case, we have only one dimension. Hence, we need to use eps=1.8 (pretty large) to generate the adversarial example. You can try adding more dimensions and you'll realize that a smaller eps will work there!"
   ]
  },
  {
   "cell_type": "code",
   "execution_count": 25,
   "metadata": {},
   "outputs": [],
   "source": [
    "def generate_adversarial_example_using_gradient_sign_method(w, x, y, y_hat, eps=1.0):\n",
    "    dx = np.matmul(y_hat - y, w.T)\n",
    "    x_new = x - eps * np.sign(dx)\n",
    "    x_new[0][0] = 1\n",
    "    return x_new\n",
    "y_hat = forward_prop(w, start_example)\n",
    "new_example = generate_adversarial_example_using_gradient_sign_method(w, start_example, 0, y_hat, eps=1.8)"
   ]
  },
  {
   "cell_type": "code",
   "execution_count": 26,
   "metadata": {},
   "outputs": [
    {
     "name": "stdout",
     "output_type": "stream",
     "text": [
      "Start Example\n",
      "Example: 2\n",
      "Looks like Original: True\n",
      "Black Box Class: 1\n",
      "\n",
      "Adversarial Example\n",
      "Example: 0.19999999999999996\n",
      "Looks like Original: True\n",
      "Black Box Class: 0\n"
     ]
    }
   ],
   "source": [
    "# Adversarial Example using Sign Gradient Method works!\n",
    "print (\"Start Example\")\n",
    "print(\"Example: {}\".format(start_example[0][1]))\n",
    "print(\"Looks like Original: {}\".format(looks_like_original(start_example[0][1], start_example[0][1])))\n",
    "print(\"Black Box Class: {}\".format(1 if get_class(forward_prop(w, start_example))[0][0] else 0))\n",
    "print()\n",
    "print(\"Adversarial Example\")\n",
    "print(\"Example: {}\".format(new_example[0][1]))\n",
    "print(\"Looks like Original: {}\".format(looks_like_original(new_example[0][1], start_example[0][1])))\n",
    "print(\"Black Box Class: {}\".format(1 if get_class(forward_prop(w, new_example))[0][0] else 0))"
   ]
  },
  {
   "cell_type": "code",
   "execution_count": null,
   "metadata": {},
   "outputs": [],
   "source": []
  },
  {
   "cell_type": "code",
   "execution_count": null,
   "metadata": {},
   "outputs": [],
   "source": []
  }
 ],
 "metadata": {
  "kernelspec": {
   "display_name": "Python (tensorflow)",
   "language": "python",
   "name": "tensorflow"
  },
  "language_info": {
   "codemirror_mode": {
    "name": "ipython",
    "version": 3
   },
   "file_extension": ".py",
   "mimetype": "text/x-python",
   "name": "python",
   "nbconvert_exporter": "python",
   "pygments_lexer": "ipython3",
   "version": "3.4.5"
  }
 },
 "nbformat": 4,
 "nbformat_minor": 2
}
